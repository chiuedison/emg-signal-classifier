{
 "cells": [
  {
   "cell_type": "code",
   "execution_count": 69,
   "metadata": {},
   "outputs": [],
   "source": [
    "# Import your predictor\n",
    "from linear_slope_predictor import LinearSlopePredictor\n",
    "from window_peak_average import Average_window_max_predictor\n",
    "# Example: from PREDICTOR_FILE import PREDICTOR_CLASS\n",
    "\n",
    "# Add your predictor to the dictionary\n",
    "predictors = {\n",
    "    \"LinearSlopePredictor\": LinearSlopePredictor(),\n",
    "    \"window_peak_val\": Average_window_max_predictor(),\n",
    "    # Example: \"PREDICTOR_CLASS\": PREDICTOR_CLASS_CONSTRUCTOR_CALL\n",
    "}"
   ]
  },
  {
   "cell_type": "code",
   "execution_count": 70,
   "metadata": {},
   "outputs": [
    {
     "name": "stdout",
     "output_type": "stream",
     "text": [
      "Raw datapoint count: 101754\n"
     ]
    }
   ],
   "source": [
    "# Get raw data\n",
    "import pandas as pd\n",
    "from window_producer import raw_to_labeled_windows\n",
    "\n",
    "raw_data = None\n",
    "# If this fails, run get_raw_data.py \n",
    "raw_data = pd.read_csv(\"../combined_data.csv\")\n",
    "print(f\"Raw datapoint count: {len(raw_data)}\")"
   ]
  },
  {
   "cell_type": "code",
   "execution_count": 71,
   "metadata": {},
   "outputs": [
    {
     "name": "stdout",
     "output_type": "stream",
     "text": [
      "Filtered datapoint count: 101754\n"
     ]
    }
   ],
   "source": [
    "# Filter raw data\n",
    "\n",
    "# raw_data = raw_data[raw_data['class'] != 0]\n",
    "raw_data.loc[raw_data['class'] != 2] = 0\n",
    "raw_data.loc[raw_data['class'] == 2] = 1\n",
    "raw_data = raw_data.rename(columns={\n",
    "    \"class\": \"y\",\n",
    "    \"channel4\": \"x\"\n",
    "})\n",
    "print(f\"Filtered datapoint count: {len(raw_data)}\")"
   ]
  },
  {
   "cell_type": "code",
   "execution_count": 72,
   "metadata": {},
   "outputs": [],
   "source": [
    "# Label subset of raw data for train/test\n",
    "train_data = raw_data.head(5000)\n",
    "x_windows_train, y_labels_train = raw_to_labeled_windows(train_data, min_window_size=0, padding=0)\n",
    "\n",
    "test_data = raw_data.tail(95000)\n",
    "x_labels_test, y_labels_test = raw_to_labeled_windows(test_data, min_window_size=0, padding=0)"
   ]
  },
  {
   "cell_type": "code",
   "execution_count": 73,
   "metadata": {},
   "outputs": [
    {
     "name": "stdout",
     "output_type": "stream",
     "text": [
      "Train dataset size: 2\n",
      "[0, 1]\n",
      "Test dataset size: 7\n",
      "[0, 1, 0, 1, 0, 1, 0]\n"
     ]
    }
   ],
   "source": [
    "print(f\"Train dataset size: {len(x_windows_train)}\")\n",
    "print(y_labels_train)\n",
    "\n",
    "print(f\"Test dataset size: {len(x_labels_test)}\")\n",
    "print(y_labels_test)"
   ]
  },
  {
   "cell_type": "code",
   "execution_count": 74,
   "metadata": {},
   "outputs": [],
   "source": [
    "# Train all predictors\n",
    "for p in predictors:\n",
    "    predictors[p].train(x_windows_train, y_labels_train)"
   ]
  },
  {
   "cell_type": "code",
   "execution_count": 75,
   "metadata": {},
   "outputs": [
    {
     "name": "stdout",
     "output_type": "stream",
     "text": [
      "{'LinearSlopePredictor': {'tp': 3, 'fp': 4, 'tn': 0, 'fn': 0}, 'window_peak_val': {'tp': 3, 'fp': 0, 'tn': 4, 'fn': 0}}\n"
     ]
    }
   ],
   "source": [
    "# Test all predictors\n",
    "predictor_results = {}\n",
    "for p in predictors:\n",
    "    predictor_results[p] = {\n",
    "        'tp': 0,\n",
    "        'fp': 0,\n",
    "        'tn': 0,\n",
    "        'fn': 0,\n",
    "    }\n",
    "    for i in range(len(x_labels_test)):\n",
    "        pred = predictors[p].label_window(x_labels_test[i])\n",
    "        actual = y_labels_test[i]\n",
    "\n",
    "        if pred and actual:\n",
    "            predictor_results[p]['tp'] += 1\n",
    "        elif pred and not actual:\n",
    "            predictor_results[p]['fp'] += 1\n",
    "        elif not pred and not actual:\n",
    "            predictor_results[p]['tn'] += 1\n",
    "        elif not pred and actual:\n",
    "            predictor_results[p]['fn'] += 1\n",
    "print(predictor_results)"
   ]
  }
 ],
 "metadata": {
  "kernelspec": {
   "display_name": "Python 3.8.10 ('env': venv)",
   "language": "python",
   "name": "python3"
  },
  "language_info": {
   "codemirror_mode": {
    "name": "ipython",
    "version": 3
   },
   "file_extension": ".py",
   "mimetype": "text/x-python",
   "name": "python",
   "nbconvert_exporter": "python",
   "pygments_lexer": "ipython3",
   "version": "3.8.10"
  },
  "orig_nbformat": 4,
  "vscode": {
   "interpreter": {
    "hash": "f0551eaad037bdff703b988345323c88d1db890003c384f2d4fe39c9abb8dd4b"
   }
  }
 },
 "nbformat": 4,
 "nbformat_minor": 2
}
