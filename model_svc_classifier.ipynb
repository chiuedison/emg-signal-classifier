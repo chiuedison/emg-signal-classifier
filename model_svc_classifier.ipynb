{
 "cells": [
  {
   "cell_type": "code",
   "execution_count": 1,
   "metadata": {},
   "outputs": [],
   "source": [
    "# Accuracy of 1.000\n",
    "import pandas as pd\n",
    "from sklearn.model_selection import train_test_split\n",
    "from sklearn.svm import SVC\n",
    "from sklearn.metrics import ConfusionMatrixDisplay, confusion_matrix\n",
    "from get_raw_data import get_ring_dataset"
   ]
  },
  {
   "cell_type": "code",
   "execution_count": 2,
   "metadata": {},
   "outputs": [],
   "source": [
    "# Read data from files\n",
    "raw_df = get_ring_dataset()"
   ]
  },
  {
   "cell_type": "code",
   "execution_count": 3,
   "metadata": {},
   "outputs": [],
   "source": [
    "\"\"\"\n",
    "0 - unmarked data,\n",
    "1 - hand at rest, \n",
    "2 - hand clenched in a fist, \n",
    "3 - wrist flexion,\n",
    "4 – wrist extension,\n",
    "5 – radial deviations,\n",
    "6 - ulnar deviations,\n",
    "7 - extended palm (the gesture was not performed by all subjects).\n",
    "\"\"\"\n",
    "# Getting just two classes (hand at rest and hand clenched in fist) from data\n",
    "rest_and_clenched_df = raw_df\n",
    "rest_and_clenched_df = rest_and_clenched_df.loc[(rest_and_clenched_df['class'] == 2) | (rest_and_clenched_df['class'] == 1)]\n",
    "\n",
    "# Get class list\n",
    "class_list = rest_and_clenched_df['class'].tolist()\n",
    "# Get data list of lists\n",
    "data_list = rest_and_clenched_df.drop(columns=['time', 'class'], axis=1).values.tolist()"
   ]
  },
  {
   "cell_type": "code",
   "execution_count": 4,
   "metadata": {},
   "outputs": [],
   "source": [
    "# Split testing and training data\n",
    "data_train, data_test, class_train, class_test = train_test_split(data_list, class_list, test_size=0.25, random_state=0)"
   ]
  },
  {
   "cell_type": "code",
   "execution_count": 5,
   "metadata": {},
   "outputs": [
    {
     "name": "stdout",
     "output_type": "stream",
     "text": [
      "[2 1 1 ... 1 2 1]\n",
      "True Positive(TP)  =  1471\n",
      "False Positive(FP) =  2\n",
      "True Negative(TN)  =  1636\n",
      "False Negative(FN) =  12\n",
      "Accuracy of the binary classification = 0.996\n"
     ]
    }
   ],
   "source": [
    "# Train with SVM classifier\n",
    "model = SVC(C = 1.0, kernel = 'rbf')\n",
    "model.fit(data_train, class_train)\n",
    "# Test model\n",
    "prediction = model.predict(data_test)\n",
    "print(prediction)\n",
    "# Check results\n",
    "cm = confusion_matrix(class_test, prediction)\n",
    "TN, FP, FN, TP = cm.ravel()\n",
    "\n",
    "print('True Positive(TP)  = ', TP)\n",
    "print('False Positive(FP) = ', FP)\n",
    "print('True Negative(TN)  = ', TN)\n",
    "print('False Negative(FN) = ', FN)\n",
    "\n",
    "accuracy =  (TP+TN) /(TP+FP+TN+FN)\n",
    "\n",
    "print('Accuracy of the binary classification = {:0.3f}'.format(accuracy))\n"
   ]
  }
 ],
 "metadata": {
  "interpreter": {
   "hash": "e4d2875432a05b195a42c6ed51c1bd7da1f8704c408d0d8db99f4224850a1cf1"
  },
  "kernelspec": {
   "display_name": "Python 3",
   "language": "python",
   "name": "python3"
  },
  "language_info": {
   "codemirror_mode": {
    "name": "ipython",
    "version": 3
   },
   "file_extension": ".py",
   "mimetype": "text/x-python",
   "name": "python",
   "nbconvert_exporter": "python",
   "pygments_lexer": "ipython3",
   "version": "3.8.5"
  }
 },
 "nbformat": 4,
 "nbformat_minor": 2
}
